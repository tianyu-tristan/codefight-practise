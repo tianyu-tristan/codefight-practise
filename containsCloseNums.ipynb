{
 "cells": [
  {
   "cell_type": "markdown",
   "metadata": {},
   "source": [
    "Given an array of integers nums and an integer k, determine whether there are two distinct indices i and j in the array where nums[i] = nums[j] and the absolute difference between i and j is less than or equal to k.\n",
    "\n",
    "Example\n",
    "\n",
    "For nums = [0, 1, 2, 3, 5, 2] and k = 3, the output should be\n",
    "containsCloseNums(nums, k) = true.\n",
    "\n",
    "There are two 2s in nums, and the absolute difference between their positions is exactly 3.\n",
    "\n",
    "For nums = [0, 1, 2, 3, 5, 2] and k = 2, the output should be\n",
    "\n",
    "containsCloseNums(nums, k) = false.\n",
    "\n",
    "The absolute difference between the positions of the two 2s is 3, which is more than k.\n",
    "\n",
    "Input/Output\n",
    "\n",
    "[time limit] 4000ms (py3)\n",
    "[input] array.integer nums\n",
    "\n",
    "Guaranteed constraints:\n",
    "0 ≤ nums.length ≤ 55000,\n",
    "`-2**31 - 1 ≤ nums[i] ≤ 2**31 - 1.`\n",
    "\n",
    "[input] integer k\n",
    "\n",
    "Guaranteed constraints:\n",
    "0 ≤ k ≤ 35000.\n",
    "\n",
    "[output] boolean\n",
    "\n",
    "[Python3] Syntax Tips\n",
    "\n",
    "Prints help message to the console\n",
    "\n",
    "Returns a string\n",
    "\n",
    "def helloWorld(name):\n",
    "    print(\"This prints to the console when you Run Tests\")\n",
    "    return \"Hello, \" + name\n"
   ]
  },
  {
   "cell_type": "code",
   "execution_count": 18,
   "metadata": {
    "collapsed": true
   },
   "outputs": [],
   "source": [
    "# 1st attempt\n",
    "\n",
    "def containsCloseNums(nums, k):\n",
    "    win = nums[:k]\n",
    "    if len(win) > len(set(win)):\n",
    "        return True\n",
    "    \n",
    "    for i in nums[k:]:\n",
    "        if i in win:\n",
    "            return True\n",
    "        else:\n",
    "            win = win[1:] + [i]\n",
    "    return False"
   ]
  },
  {
   "cell_type": "code",
   "execution_count": 25,
   "metadata": {},
   "outputs": [],
   "source": [
    "import numpy as np\n",
    "nums = np.random.randint(low=-2**31-1, high=2**31-1, size=55_000)\n",
    "k = 35_000"
   ]
  },
  {
   "cell_type": "code",
   "execution_count": 31,
   "metadata": {},
   "outputs": [
    {
     "name": "stdout",
     "output_type": "stream",
     "text": [
      "3 loops, best of 3: 1.86 s per loop\n"
     ]
    }
   ],
   "source": [
    "%timeit -n3 containsCloseNums(nums, k)"
   ]
  },
  {
   "cell_type": "markdown",
   "metadata": {},
   "source": [
    "Hint: Use a hash table that maps each num[i] to the index i where num[i] was last seen."
   ]
  },
  {
   "cell_type": "code",
   "execution_count": 32,
   "metadata": {
    "collapsed": true
   },
   "outputs": [],
   "source": [
    "def containsCloseNums(nums, k):\n",
    "    last_seen = {}\n",
    "    for i, num in enumerate(nums):\n",
    "        if num not in last_seen.keys():\n",
    "            last_seen[num] = i\n",
    "        else:\n",
    "            if abs(last_seen[num] - i) <= k :\n",
    "                return True\n",
    "            else:\n",
    "                last_seen[num] = i\n",
    "    return False"
   ]
  },
  {
   "cell_type": "code",
   "execution_count": 33,
   "metadata": {},
   "outputs": [
    {
     "name": "stdout",
     "output_type": "stream",
     "text": [
      "3 loops, best of 3: 13.1 ms per loop\n"
     ]
    }
   ],
   "source": [
    "%timeit -n3 containsCloseNums(nums, k)"
   ]
  },
  {
   "cell_type": "code",
   "execution_count": null,
   "metadata": {
    "collapsed": true
   },
   "outputs": [],
   "source": []
  }
 ],
 "metadata": {
  "kernelspec": {
   "display_name": "Python 3",
   "language": "python",
   "name": "python3"
  },
  "language_info": {
   "codemirror_mode": {
    "name": "ipython",
    "version": 3
   },
   "file_extension": ".py",
   "mimetype": "text/x-python",
   "name": "python",
   "nbconvert_exporter": "python",
   "pygments_lexer": "ipython3",
   "version": "3.6.1"
  }
 },
 "nbformat": 4,
 "nbformat_minor": 2
}
