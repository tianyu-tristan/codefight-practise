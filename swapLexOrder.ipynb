{
 "cells": [
  {
   "cell_type": "code",
   "execution_count": 1,
   "metadata": {
    "collapsed": true
   },
   "outputs": [],
   "source": [
    "from math import factorial"
   ]
  },
  {
   "cell_type": "code",
   "execution_count": null,
   "metadata": {
    "collapsed": true
   },
   "outputs": [],
   "source": []
  },
  {
   "cell_type": "code",
   "execution_count": 6,
   "metadata": {},
   "outputs": [
    {
     "data": {
      "text/plain": [
       "True"
      ]
     },
     "execution_count": 6,
     "metadata": {},
     "output_type": "execute_result"
    }
   ],
   "source": [
    "1 == 1 == 1"
   ]
  },
  {
   "cell_type": "code",
   "execution_count": 92,
   "metadata": {
    "collapsed": true
   },
   "outputs": [],
   "source": [
    "def swapLexOrder(str, pairs):\n",
    "    string = list(str)\n",
    "    groups_i = [pairs[0]] # list of set of index\n",
    "    for pair in pairs:\n",
    "        found_i = -1\n",
    "        for i, group_i in enumerate(groups_i):\n",
    "            print(f\"intersection: {group_i}, {pair}\")\n",
    "            if len(set(group_i).intersection(set(pair))) != 0:\n",
    "                found = True\n",
    "                found_i = i\n",
    "        if found_i != -1:\n",
    "            print(f\"union: {groups_i[found_i]} {pair} = \", sorted(list(set(groups_i[found_i]).union(set(pair))), reverse=False))\n",
    "            groups_i[found_i] = sorted(list(set(groups_i[found_i]).union(set(pair))), reverse=False)\n",
    "        else:\n",
    "            print(\"didn't found\")\n",
    "            groups_i.append(sorted(pair, reverse=False))\n",
    "            print(\"groups_i\",groups_i)\n",
    "    \n",
    "    groups_v = []\n",
    "    for group_i in groups_i:\n",
    "        print(group_i)\n",
    "        to_append = []\n",
    "        for i in group_i:\n",
    "            to_append.append(string[i-1])\n",
    "        groups_v.append(sorted(to_append, reverse=True))\n",
    "        \n",
    "    print(groups_i, groups_v)\n",
    "    for grp_i, grp_v in zip(groups_i, groups_v):\n",
    "        for i, ind in enumerate(grp_i):\n",
    "            print(\"index\",i, ind)\n",
    "            string[ind-1] = grp_v[i]\n",
    "    return ''.join(string)"
   ]
  },
  {
   "cell_type": "code",
   "execution_count": 93,
   "metadata": {
    "collapsed": true
   },
   "outputs": [],
   "source": [
    "str = \"acxrabdz\"\n",
    "pairs = [[1,3], \n",
    " [6,8], \n",
    " [3,8], \n",
    " [2,7]]"
   ]
  },
  {
   "cell_type": "code",
   "execution_count": 94,
   "metadata": {
    "scrolled": true
   },
   "outputs": [
    {
     "name": "stdout",
     "output_type": "stream",
     "text": [
      "intersection: [1, 3], [1, 3]\n",
      "union: [1, 3] [1, 3] =  [1, 3]\n",
      "intersection: [1, 3], [6, 8]\n",
      "didn't found\n",
      "groups_i [[1, 3], [6, 8]]\n",
      "intersection: [1, 3], [3, 8]\n",
      "intersection: [6, 8], [3, 8]\n",
      "union: [6, 8] [3, 8] =  [3, 6, 8]\n",
      "intersection: [1, 3], [2, 7]\n",
      "intersection: [3, 6, 8], [2, 7]\n",
      "didn't found\n",
      "groups_i [[1, 3], [3, 6, 8], [2, 7]]\n",
      "[1, 3]\n",
      "[3, 6, 8]\n",
      "[2, 7]\n",
      "[[1, 3], [3, 6, 8], [2, 7]] [['x', 'a'], ['z', 'x', 'b'], ['d', 'c']]\n",
      "index 0 1\n",
      "index 1 3\n",
      "index 0 3\n",
      "index 1 6\n",
      "index 2 8\n",
      "index 0 2\n",
      "index 1 7\n"
     ]
    },
    {
     "data": {
      "text/plain": [
       "'xdzraxcb'"
      ]
     },
     "execution_count": 94,
     "metadata": {},
     "output_type": "execute_result"
    }
   ],
   "source": [
    "swapLexOrder(str, pairs)"
   ]
  },
  {
   "cell_type": "code",
   "execution_count": 215,
   "metadata": {
    "collapsed": true
   },
   "outputs": [],
   "source": [
    "def swapLexOrder(str, pairs):\n",
    "    def has_common(a,b):\n",
    "        return len(set(a).intersection(set(b))) > 0\n",
    "    \n",
    "    if len(pairs) <= 1:\n",
    "        return str\n",
    "\n",
    "    first, l = pairs[0], pairs[1:]\n",
    "    out = []\n",
    "    while len(l) > 0:\n",
    "        found = False\n",
    "        for item in l:\n",
    "#             print(f\"first = {first}, item={item}, l = {l}\")\n",
    "            if has_common(first, item):\n",
    "#                 print(\"has common!\")\n",
    "                first = sorted(set(first + item)) # merge it\n",
    "#                 print(f\"new first = {first}\")\n",
    "                l.remove(item) # update the one we're checking using\n",
    "#                 print(f\"new l = {l}\")\n",
    "                found = True\n",
    "                break\n",
    "        if not found:\n",
    "            out.append(first)\n",
    "#             print(f\"out = {out}, l = {l}\")\n",
    "            if len(l) > 1:\n",
    "                first, l = l[0], l[1:]\n",
    "            else:\n",
    "                out += l\n",
    "                break\n",
    "    \n",
    "    print(f\"out = {out}\")\n",
    "    values = []\n",
    "    for grp in out:\n",
    "        print(grp)\n",
    "        values.append(sorted([str[i-1] for i in grp], reverse=True))\n",
    "#         print(\"values = \",values)\n",
    "    \n",
    "    ret = list(str)\n",
    "    for v_grp, i_grp in zip(values, out):\n",
    "        for v, i in zip(v_grp, i_grp):\n",
    "            ret[i-1] = v\n",
    "#     print(''.join(ret))\n",
    "    return ''.join(ret)"
   ]
  },
  {
   "cell_type": "code",
   "execution_count": 216,
   "metadata": {
    "collapsed": true
   },
   "outputs": [],
   "source": [
    "str = \"acxrabdz\"\n",
    "pairs = [[1,3], \n",
    " [6,8], \n",
    " [3,8], \n",
    " [2,7]]"
   ]
  },
  {
   "cell_type": "code",
   "execution_count": 217,
   "metadata": {},
   "outputs": [
    {
     "name": "stdout",
     "output_type": "stream",
     "text": [
      "out = [[1, 3, 6, 8], [2, 7]]\n",
      "[1, 3, 6, 8]\n",
      "[2, 7]\n"
     ]
    },
    {
     "data": {
      "text/plain": [
       "'zdxrabca'"
      ]
     },
     "execution_count": 217,
     "metadata": {},
     "output_type": "execute_result"
    }
   ],
   "source": [
    "swapLexOrder(str, pairs)"
   ]
  },
  {
   "cell_type": "code",
   "execution_count": 181,
   "metadata": {},
   "outputs": [
    {
     "ename": "TypeError",
     "evalue": "list indices must be integers or slices, not list",
     "output_type": "error",
     "traceback": [
      "\u001b[0;31m---------------------------------------------------------------------------\u001b[0m",
      "\u001b[0;31mTypeError\u001b[0m                                 Traceback (most recent call last)",
      "\u001b[0;32m<ipython-input-181-14c1d38e86cb>\u001b[0m in \u001b[0;36m<module>\u001b[0;34m()\u001b[0m\n\u001b[0;32m----> 1\u001b[0;31m \u001b[0mlist\u001b[0m\u001b[0;34m(\u001b[0m\u001b[0mstr\u001b[0m\u001b[0;34m)\u001b[0m\u001b[0;34m[\u001b[0m\u001b[0;34m[\u001b[0m\u001b[0;36m1\u001b[0m\u001b[0;34m,\u001b[0m\u001b[0;36m2\u001b[0m\u001b[0;34m,\u001b[0m\u001b[0;36m3\u001b[0m\u001b[0;34m]\u001b[0m\u001b[0;34m]\u001b[0m\u001b[0;34m\u001b[0m\u001b[0m\n\u001b[0m",
      "\u001b[0;31mTypeError\u001b[0m: list indices must be integers or slices, not list"
     ]
    }
   ],
   "source": []
  },
  {
   "cell_type": "code",
   "execution_count": 218,
   "metadata": {
    "collapsed": true
   },
   "outputs": [],
   "source": [
    "str = \"abdc\"\n",
    "pairs = [[1,4], [3,4]]"
   ]
  },
  {
   "cell_type": "code",
   "execution_count": 219,
   "metadata": {},
   "outputs": [
    {
     "name": "stdout",
     "output_type": "stream",
     "text": [
      "out = []\n"
     ]
    },
    {
     "data": {
      "text/plain": [
       "'abdc'"
      ]
     },
     "execution_count": 219,
     "metadata": {},
     "output_type": "execute_result"
    }
   ],
   "source": [
    "swapLexOrder(str, pairs)"
   ]
  },
  {
   "cell_type": "code",
   "execution_count": 172,
   "metadata": {
    "collapsed": true
   },
   "outputs": [],
   "source": [
    "a = [1,4,7,9]\n",
    "b = [3,4]"
   ]
  },
  {
   "cell_type": "code",
   "execution_count": 175,
   "metadata": {},
   "outputs": [
    {
     "data": {
      "text/plain": [
       "[1, 4, 7, 9, [3, 4], [3, 4]]"
      ]
     },
     "execution_count": 175,
     "metadata": {},
     "output_type": "execute_result"
    }
   ],
   "source": [
    "a.append(b)\n",
    "a"
   ]
  },
  {
   "cell_type": "code",
   "execution_count": 131,
   "metadata": {},
   "outputs": [
    {
     "data": {
      "text/plain": [
       "[4, 7, 9]"
      ]
     },
     "execution_count": 131,
     "metadata": {},
     "output_type": "execute_result"
    }
   ],
   "source": [
    "a2"
   ]
  },
  {
   "cell_type": "code",
   "execution_count": 125,
   "metadata": {
    "collapsed": true
   },
   "outputs": [],
   "source": [
    "s1 = {1,2}\n",
    "s2 = {4,3}\n"
   ]
  },
  {
   "cell_type": "code",
   "execution_count": null,
   "metadata": {
    "collapsed": true
   },
   "outputs": [],
   "source": []
  }
 ],
 "metadata": {
  "kernelspec": {
   "display_name": "Python 3",
   "language": "python",
   "name": "python3"
  },
  "language_info": {
   "codemirror_mode": {
    "name": "ipython",
    "version": 3
   },
   "file_extension": ".py",
   "mimetype": "text/x-python",
   "name": "python",
   "nbconvert_exporter": "python",
   "pygments_lexer": "ipython3",
   "version": "3.6.1"
  }
 },
 "nbformat": 4,
 "nbformat_minor": 2
}
