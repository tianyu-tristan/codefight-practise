{
 "cells": [
  {
   "cell_type": "markdown",
   "metadata": {},
   "source": [
    "```\n",
    "You have a list of dishes. Each dish is associated with a list of ingredients used to prepare it. You want to group the dishes by ingredients, so that for each ingredient you'll be able to find all the dishes that contain it (if there are at least 2 such dishes).\n",
    "\n",
    "Return an array where each element is a list with the first element equal to the name of the ingredient and all of the other elements equal to the names of dishes that contain this ingredient. The dishes inside each list should be sorted lexicographically. The result array should be sorted lexicographically by the names of the ingredients in its elements.\n",
    "\n",
    "Example\n",
    "\n",
    "For\n",
    "  dishes = [[\"Salad\", \"Tomato\", \"Cucumber\", \"Salad\", \"Sauce\"],\n",
    "            [\"Pizza\", \"Tomato\", \"Sausage\", \"Sauce\", \"Dough\"],\n",
    "            [\"Quesadilla\", \"Chicken\", \"Cheese\", \"Sauce\"],\n",
    "            [\"Sandwich\", \"Salad\", \"Bread\", \"Tomato\", \"Cheese\"]]\n",
    "the output should be\n",
    "  groupingDishes(dishes) = [[\"Cheese\", \"Quesadilla\", \"Sandwich\"],\n",
    "                            [\"Salad\", \"Salad\", \"Sandwich\"],\n",
    "                            [\"Sauce\", \"Pizza\", \"Quesadilla\", \"Salad\"],\n",
    "                            [\"Tomato\", \"Pizza\", \"Salad\", \"Sandwich\"]]\n",
    "For\n",
    "  dishes = [[\"Pasta\", \"Tomato Sauce\", \"Onions\", \"Garlic\"],\n",
    "            [\"Chicken Curry\", \"Chicken\", \"Curry Sauce\"],\n",
    "            [\"Fried Rice\", \"Rice\", \"Onions\", \"Nuts\"],\n",
    "            [\"Salad\", \"Spinach\", \"Nuts\"],\n",
    "            [\"Sandwich\", \"Cheese\", \"Bread\"],\n",
    "            [\"Quesadilla\", \"Chicken\", \"Cheese\"]]\n",
    "the output should be\n",
    "  groupingDishes(dishes) = [[\"Cheese\", \"Quesadilla\", \"Sandwich\"],\n",
    "                            [\"Chicken\", \"Chicken Curry\", \"Quesadilla\"],\n",
    "                            [\"Nuts\", \"Fried Rice\", \"Salad\"],\n",
    "                            [\"Onions\", \"Fried Rice\", \"Pasta\"]]\n",
    "Input/Output\n",
    "\n",
    "[time limit] 4000ms (py3)\n",
    "[input] array.array.string dishes\n",
    "\n",
    "An array of dishes. dishes[i] for each valid i contains information about the ith dish: the first element of dishes[i] is the name of the dish and the following elements are the ingredients of that dish. Both the dish name and the ingredient names consist of English letters and spaces. It is guaranteed that all dish names are different. It is also guaranteed that ingredient names for one dish are also pairwise different.\n",
    "\n",
    "Guaranteed constraints:\n",
    "1 ≤ dishes.length ≤ 500,\n",
    "2 ≤ dishes[i].length ≤ 10,\n",
    "1 ≤ dishes[i][j].length ≤ 50.\n",
    "\n",
    "[output] array.array.string\n",
    "\n",
    "The array containing the grouped dishes.\n",
    "```"
   ]
  },
  {
   "cell_type": "code",
   "execution_count": 1,
   "metadata": {
    "collapsed": true
   },
   "outputs": [],
   "source": [
    "from collections import defaultdict\n",
    "import operator\n",
    "def groupingDishes(dishes):\n",
    "    ingredients = defaultdict(list)\n",
    "    for dish in dishes:\n",
    "        dish[1:] = sorted(dish[1:])\n",
    "        for ingred in dish[1:]:\n",
    "            ingredients[ingred].append(dish[0])\n",
    "            ingredients[ingred] = sorted(ingredients[ingred])\n",
    "    \n",
    "    ingredients = sorted(ingredients.items(), key=operator.itemgetter(0))\n",
    "    return [[ingredient[0]] + ingredient[1] for ingredient in ingredients if len(ingredient[1]) > 1]"
   ]
  },
  {
   "cell_type": "code",
   "execution_count": null,
   "metadata": {
    "collapsed": true
   },
   "outputs": [],
   "source": []
  }
 ],
 "metadata": {
  "kernelspec": {
   "display_name": "Python 3",
   "language": "python",
   "name": "python3"
  },
  "language_info": {
   "codemirror_mode": {
    "name": "ipython",
    "version": 3
   },
   "file_extension": ".py",
   "mimetype": "text/x-python",
   "name": "python",
   "nbconvert_exporter": "python",
   "pygments_lexer": "ipython3",
   "version": "3.6.1"
  }
 },
 "nbformat": 4,
 "nbformat_minor": 2
}
