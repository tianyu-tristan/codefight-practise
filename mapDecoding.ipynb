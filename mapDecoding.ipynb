{
 "cells": [
  {
   "cell_type": "code",
   "execution_count": 13,
   "metadata": {},
   "outputs": [],
   "source": [
    "def mapDecoding(message):\n",
    "    \n",
    "    def single(s):\n",
    "        return 1 if int(s) in range(1, 10) else 0\n",
    "    def double(s):\n",
    "        return 1 if int(s) in range(10, 27) else 0\n",
    "    \n",
    "    if len(message) == 0:\n",
    "        return 1\n",
    "    if len(message) == 1:\n",
    "        return single(message)\n",
    "\n",
    "    last2 = 1\n",
    "    last1 = single(message[0])\n",
    "    \n",
    "    if single(message[0]) == 0:\n",
    "        return 0\n",
    "    \n",
    "    for i in range(2, len(message)+1): # i-th element\n",
    "        s = single(message[i-1])\n",
    "        d = double(str(message[i-2:i]))\n",
    "        curr = last2 * d + last1 * s\n",
    "        last2, last1 = last1, curr\n",
    "        \n",
    "    return curr % (10**9 + 7)"
   ]
  },
  {
   "cell_type": "code",
   "execution_count": 19,
   "metadata": {},
   "outputs": [],
   "source": [
    "assert mapDecoding(\"\") == 1\n",
    "assert mapDecoding(\"301\") == 0\n",
    "assert mapDecoding(\"11111\") == 8\n",
    "assert mapDecoding(\"1\") == 1\n",
    "assert mapDecoding(\"111111\") == 13"
   ]
  },
  {
   "cell_type": "code",
   "execution_count": null,
   "metadata": {},
   "outputs": [],
   "source": []
  }
 ],
 "metadata": {
  "kernelspec": {
   "display_name": "Python 3",
   "language": "python",
   "name": "python3"
  },
  "language_info": {
   "codemirror_mode": {
    "name": "ipython",
    "version": 3
   },
   "file_extension": ".py",
   "mimetype": "text/x-python",
   "name": "python",
   "nbconvert_exporter": "python",
   "pygments_lexer": "ipython3",
   "version": "3.6.4"
  }
 },
 "nbformat": 4,
 "nbformat_minor": 2
}
