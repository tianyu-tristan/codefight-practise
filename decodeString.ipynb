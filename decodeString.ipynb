{
 "cells": [
  {
   "cell_type": "code",
   "execution_count": 46,
   "metadata": {},
   "outputs": [],
   "source": [
    "import re\n",
    "def decodeString(s):\n",
    "    # end case\n",
    "    if not s:\n",
    "        return \"\"   \n",
    "    if s.isalpha():\n",
    "        return s\n",
    "    \n",
    "    pattern = '([a-z]*?)(\\d*?)\\[(\\w*?)\\]'\n",
    "    for matches in re.finditer(pattern, s):\n",
    "        prefix, multiplyer, payload = matches.groups()\n",
    "        subs = prefix + int(multiplyer) * payload\n",
    "        start, end = matches.span() \n",
    "        new_s = s[:start] + subs + s[end:]\n",
    "        return decodeString(new_s)"
   ]
  },
  {
   "cell_type": "markdown",
   "metadata": {},
   "source": [
    "For s = \"4[ab]\", the output should be\n",
    "decodeString(s) = \"abababab\";\n",
    "\n",
    "For s = \"2[b3[a]]\", the output should be\n",
    "decodeString(s) = \"baaabaaa\";\n",
    "\n",
    "For s = \"z1[y]zzz2[abc]\", the output should be\n",
    "decodeString(s) = \"zyzzzabcabc\"."
   ]
  },
  {
   "cell_type": "code",
   "execution_count": 47,
   "metadata": {
    "scrolled": true
   },
   "outputs": [
    {
     "data": {
      "text/plain": [
       "'abababab'"
      ]
     },
     "execution_count": 47,
     "metadata": {},
     "output_type": "execute_result"
    }
   ],
   "source": [
    "decodeString(\"4[ab]\")"
   ]
  },
  {
   "cell_type": "code",
   "execution_count": 48,
   "metadata": {},
   "outputs": [
    {
     "data": {
      "text/plain": [
       "'baaabaaa'"
      ]
     },
     "execution_count": 48,
     "metadata": {},
     "output_type": "execute_result"
    }
   ],
   "source": [
    "decodeString(\"2[b3[a]]\")"
   ]
  },
  {
   "cell_type": "code",
   "execution_count": 44,
   "metadata": {},
   "outputs": [
    {
     "data": {
      "text/plain": [
       "''"
      ]
     },
     "execution_count": 44,
     "metadata": {},
     "output_type": "execute_result"
    }
   ],
   "source": [
    "decodeString(\"\")"
   ]
  },
  {
   "cell_type": "code",
   "execution_count": null,
   "metadata": {},
   "outputs": [],
   "source": []
  }
 ],
 "metadata": {
  "kernelspec": {
   "display_name": "Python 3",
   "language": "python",
   "name": "python3"
  },
  "language_info": {
   "codemirror_mode": {
    "name": "ipython",
    "version": 3
   },
   "file_extension": ".py",
   "mimetype": "text/x-python",
   "name": "python",
   "nbconvert_exporter": "python",
   "pygments_lexer": "ipython3",
   "version": "3.6.4"
  }
 },
 "nbformat": 4,
 "nbformat_minor": 2
}
