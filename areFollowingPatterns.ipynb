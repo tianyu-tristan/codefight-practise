{
 "cells": [
  {
   "cell_type": "markdown",
   "metadata": {},
   "source": [
    "```\n",
    "Given an array strings, determine whether it follows the sequence given in the patterns array. In other words, there should be no i and j for which strings[i] = strings[j] and patterns[i] ≠ patterns[j] or for which strings[i] ≠ strings[j] and patterns[i] = patterns[j].\n",
    "\n",
    "Example\n",
    "\n",
    "For strings = [\"cat\", \"dog\", \"dog\"] and patterns = [\"a\", \"b\", \"b\"], the output should be\n",
    "areFollowingPatterns(strings, patterns) = true;\n",
    "For strings = [\"cat\", \"dog\", \"doggy\"] and patterns = [\"a\", \"b\", \"b\"], the output should be\n",
    "areFollowingPatterns(strings, patterns) = false.\n",
    "Input/Output\n",
    "\n",
    "[time limit] 4000ms (py3)\n",
    "[input] array.string strings\n",
    "\n",
    "An array of strings, each containing only lowercase English letters.\n",
    "\n",
    "Guaranteed constraints:\n",
    "1 ≤ strings.length ≤ 105,\n",
    "1 ≤ strings[i].length ≤ 10.\n",
    "\n",
    "[input] array.string patterns\n",
    "\n",
    "An array of pattern strings, each containing only lowercase English letters.\n",
    "\n",
    "Guaranteed constraints:\n",
    "patterns.length = strings.length,\n",
    "1 ≤ patterns[i].length ≤ 10.\n",
    "\n",
    "[output] boolean\n",
    "\n",
    "Return true if strings follows patterns and false otherwise.\n",
    "```"
   ]
  },
  {
   "cell_type": "code",
   "execution_count": 2,
   "metadata": {
    "collapsed": true
   },
   "outputs": [],
   "source": [
    "def areFollowingPatterns(strings, patterns):\n",
    "    items = zip(strings, patterns)\n",
    "    match = {k:v for k,v in items}\n",
    "    inv_match = {v:k for k,v in items}\n",
    "    return len(match) == len(inv_match)"
   ]
  },
  {
   "cell_type": "code",
   "execution_count": null,
   "metadata": {
    "collapsed": true
   },
   "outputs": [],
   "source": []
  }
 ],
 "metadata": {
  "kernelspec": {
   "display_name": "Python 3",
   "language": "python",
   "name": "python3"
  },
  "language_info": {
   "codemirror_mode": {
    "name": "ipython",
    "version": 3
   },
   "file_extension": ".py",
   "mimetype": "text/x-python",
   "name": "python",
   "nbconvert_exporter": "python",
   "pygments_lexer": "ipython3",
   "version": "3.6.1"
  }
 },
 "nbformat": 4,
 "nbformat_minor": 2
}
